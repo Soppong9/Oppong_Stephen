{
 "cells": [
  {
   "cell_type": "code",
   "execution_count": 9,
   "id": "d5ec7a22",
   "metadata": {},
   "outputs": [],
   "source": [
    "# importing the library to be used \n",
    "import numpy as np\n",
    "import matplotlib.pyplot as plt\n"
   ]
  },
  {
   "cell_type": "code",
   "execution_count": 10,
   "id": "997aa1dc",
   "metadata": {},
   "outputs": [],
   "source": [
    "# Sample observational data (in degrees Celsius)\n",
    "observations = np.array([15.2, 16.1, 14.5, 15.8, 25.0])\n",
    "\n",
    "# Sample model predictions (in degrees Celsius)\n",
    "model_output = np.array([14.8, 15.5, 14.0, 16.0, 25.3])"
   ]
  },
  {
   "cell_type": "code",
   "execution_count": 11,
   "id": "27f69afd",
   "metadata": {},
   "outputs": [
    {
     "name": "stdout",
     "output_type": "stream",
     "text": [
      "model_covariance 21.477000000000004\n",
      "Observations_covariance 18.807\n"
     ]
    }
   ],
   "source": [
    "\n",
    "# Calculating model covariance\n",
    "model_covar = np.cov(model_output)\n",
    "\n",
    "# Calculating observation covariance\n",
    "obser_covar = np.cov(observations)\n",
    "\n",
    "print(\"model_covariance\",model_covar)\n",
    "print(\"Observations_covariance\",obser_covar)\n"
   ]
  },
  {
   "cell_type": "code",
   "execution_count": 13,
   "id": "c0d007c1",
   "metadata": {},
   "outputs": [
    {
     "name": "stdout",
     "output_type": "stream",
     "text": [
      "Kalman weight or gain [0.58482087 0.57093134 0.59610007 0.57548729 0.46234434]\n",
      "Interpolation operator 1.0073676339774909\n"
     ]
    }
   ],
   "source": [
    "#xa = xb + K (y − H xb) from Stephenson et al (2005).Forecast assimilation: a unified framework for the combination of multi-model weather and climate predictions. Tellus A, 57(3), 253-264.\n",
    "#where xb is the model_output, k is the kalman gain, H is the H = the observation operator, which maps the model state to the observation space and y is the observational data\n",
    "# According to optimal interpolation analysis\n",
    "\n",
    "# Finding interpolator operator by Mapping the model_output and the observation data\n",
    "H= (observations @ model_output.T) / (model_output @ model_output.T)\n",
    "\n",
    "# Calculating Kalman gain or weight\n",
    "K = model_covar * H.T * (H * model_covar * H.T + observations)**-1\n",
    "\n",
    "\n",
    "\n",
    "\n",
    "print(\"Kalman weight or gain\",K)\n",
    "print (\"Interpolation operator\", H)"
   ]
  },
  {
   "cell_type": "code",
   "execution_count": 14,
   "id": "2e9dee2e",
   "metadata": {},
   "outputs": [
    {
     "data": {
      "text/plain": [
       "array([15.03392835, 15.8425588 , 14.29805004, 15.88490254, 25.1612967 ])"
      ]
     },
     "execution_count": 14,
     "metadata": {},
     "output_type": "execute_result"
    }
   ],
   "source": [
    "# Calculating the  analysis field from xa = xb + K (y − H xb)\n",
    "Analysis = model_output + K * (observations - model_output)\n",
    "Analysis"
   ]
  },
  {
   "cell_type": "code",
   "execution_count": 15,
   "id": "629197bd",
   "metadata": {},
   "outputs": [
    {
     "name": "stdout",
     "output_type": "stream",
     "text": [
      "RMSE of model output: 0.4242640687119287\n",
      "RMSE of analysis field: 0.18322915637406761\n"
     ]
    }
   ],
   "source": [
    "# Calculate RMSE\n",
    "rmse_model = np.sqrt(np.mean((model_output - observations)**2))\n",
    "rmse_state = np.sqrt(np.mean((Analysis - observations)**2))\n",
    "\n",
    "print(\"RMSE of model output:\", rmse_model)\n",
    "print(\"RMSE of analysis field:\", rmse_state)\n"
   ]
  },
  {
   "cell_type": "code",
   "execution_count": 16,
   "id": "9e3f56be",
   "metadata": {},
   "outputs": [
    {
     "name": "stdout",
     "output_type": "stream",
     "text": [
      "Bias (observations): 0.07585271481249337\n",
      "Bias (model): -0.12414728518750665\n"
     ]
    }
   ],
   "source": [
    "#calculating the bias\n",
    "bias_obs = np.mean(observations - Analysis)\n",
    "bias_model = np.mean(model_output - Analysis)\n",
    "\n",
    "print(\"Bias (observations):\", bias_obs)\n",
    "print(\"Bias (model):\", bias_model)"
   ]
  },
  {
   "cell_type": "code",
   "execution_count": 18,
   "id": "0cfedf1a",
   "metadata": {},
   "outputs": [
    {
     "data": {
      "image/png": "[encoded data removed]",
      "text/plain": [
       "<Figure size 576x432 with 1 Axes>"
      ]
     },
     "metadata": {
      "needs_background": "light"
     },
     "output_type": "display_data"
    }
   ],
   "source": [
    "# Plot the analysis field\n",
    "\n",
    "plt.figure(figsize=(8, 6))\n",
    "plt.plot(range(1, 6), observations, label='Observations')\n",
    "plt.plot(range(1, 6), model_output, label='Model Output')\n",
    "plt.plot(range(1, 6), Analysis, label='Analysis Field')\n",
    "\n",
    "plt.xlabel('Time')\n",
    "plt.ylabel('Temperature (°C)')\n",
    "plt.title('Data Assimilation Results')\n",
    "plt.legend()\n",
    "plt.show()"
   ]
  },
  {
   "cell_type": "code",
   "execution_count": null,
   "id": "dfc01fdf",
   "metadata": {},
   "outputs": [],
   "source": []
  },
  {
   "cell_type": "code",
   "execution_count": null,
   "id": "63317035",
   "metadata": {},
   "outputs": [],
   "source": []
  },
  {
   "cell_type": "code",
   "execution_count": null,
   "id": "6e476396",
   "metadata": {},
   "outputs": [],
   "source": []
  },
  {
   "cell_type": "code",
   "execution_count": null,
   "id": "00af868b",
   "metadata": {},
   "outputs": [],
   "source": []
  },
  {
   "cell_type": "code",
   "execution_count": null,
   "id": "dd25aeac",
   "metadata": {},
   "outputs": [],
   "source": []
  },
  {
   "cell_type": "code",
   "execution_count": 27,
   "id": "60678aa3",
   "metadata": {},
   "outputs": [],
   "source": []
  },
  {
   "cell_type": "code",
   "execution_count": 28,
   "id": "09e677ec",
   "metadata": {},
   "outputs": [],
   "source": []
  },
  {
   "cell_type": "code",
   "execution_count": 29,
   "id": "c562fa89",
   "metadata": {},
   "outputs": [],
   "source": []
  },
  {
   "cell_type": "code",
   "execution_count": null,
   "id": "49a83bd6",
   "metadata": {},
   "outputs": [],
   "source": []
  },
  {
   "cell_type": "code",
   "execution_count": null,
   "id": "cd2a6524",
   "metadata": {},
   "outputs": [],
   "source": []
  },
  {
   "cell_type": "code",
   "execution_count": null,
   "id": "ec79055b",
   "metadata": {},
   "outputs": [],
   "source": [
    " "
   ]
  },
  {
   "cell_type": "code",
   "execution_count": null,
   "id": "e0963560",
   "metadata": {},
   "outputs": [],
   "source": []
  },
  {
   "cell_type": "code",
   "execution_count": null,
   "id": "327c05aa",
   "metadata": {},
   "outputs": [],
   "source": []
  },
  {
   "cell_type": "code",
   "execution_count": null,
   "id": "a710b06a",
   "metadata": {},
   "outputs": [],
   "source": []
  },
  {
   "cell_type": "code",
   "execution_count": null,
   "id": "16a7dbdc",
   "metadata": {},
   "outputs": [],
   "source": []
  },
  {
   "cell_type": "code",
   "execution_count": null,
   "id": "82ed159a",
   "metadata": {},
   "outputs": [],
   "source": []
  },
  {
   "cell_type": "code",
   "execution_count": null,
   "id": "405a8ffe",
   "metadata": {},
   "outputs": [],
   "source": []
  },
  {
   "cell_type": "code",
   "execution_count": null,
   "id": "b77dec24",
   "metadata": {},
   "outputs": [],
   "source": []
  }
 ],
 "metadata": {
  "kernelspec": {
   "display_name": "Python 3 (ipykernel)",
   "language": "python",
   "name": "python3"
  },
  "language_info": {
   "codemirror_mode": {
    "name": "ipython",
    "version": 3
   },
   "file_extension": ".py",
   "mimetype": "text/x-python",
   "name": "python",
   "nbconvert_exporter": "python",
   "pygments_lexer": "ipython3",
   "version": "3.9.12"
  }
 },
 "nbformat": 4,
 "nbformat_minor": 5
}
